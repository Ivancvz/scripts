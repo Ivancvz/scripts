{
  "nbformat": 4,
  "nbformat_minor": 0,
  "metadata": {
    "colab": {
      "provenance": []
    },
    "kernelspec": {
      "name": "python3",
      "display_name": "Python 3"
    },
    "language_info": {
      "name": "python"
    }
  },
  "cells": [
    {
      "cell_type": "code",
      "execution_count": 10,
      "metadata": {
        "colab": {
          "base_uri": "https://localhost:8080/"
        },
        "id": "JLusZxhJ9hBf",
        "outputId": "2fd7cb51-527c-44e2-af01-a4f8ad478da6"
      },
      "outputs": [
        {
          "output_type": "stream",
          "name": "stdout",
          "text": [
            "Looking in indexes: https://pypi.org/simple, https://us-python.pkg.dev/colab-wheels/public/simple/\n",
            "Requirement already satisfied: PyMuPDF in /usr/local/lib/python3.9/dist-packages (1.21.1)\n"
          ]
        }
      ],
      "source": [
        "!pip install PyMuPDF\n",
        "import fitz\n",
        "import os\n",
        "# Importa librerías y carga todos los PDFs con los que trabajarás.\n",
        "# Para cargar hay que jalar los PDFs a la sección 'Files' de la izquierda.\n",
        "# Cargar las firmas que colocarás, tener en cuenta como nombre \"firma1, firma2, firma3\" en el orden que se colocarán."
      ]
    },
    {
      "cell_type": "code",
      "source": [
        "y_dict = {0: 225, 1: 165, 2: 105, 3: 45, 4: -15, 5: -75} #Aquí puedes adaptar la coordenada según el cajetín del proyecto por cada revisión {rev: coordenada y}\n",
        "x1, x2, x3 = 4130, 4230, 4350 #Aquí puedes adaptar la coordenada según el cajetín del proyecto."
      ],
      "metadata": {
        "id": "87MkmAGjD9E_"
      },
      "execution_count": null,
      "outputs": []
    },
    {
      "cell_type": "code",
      "source": [
        "#Coorer script para colocación de firmas, los PDFs firmados aparecerán en la carpeta \"Firmados\"\n",
        "if not os.path.exists('/content/Firmados'):\n",
        "    os.makedirs('/content/Firmados')\n",
        "contenido = [archivo.name for archivo in os.scandir('/content/') if archivo.is_file() and archivo.name.endswith('.pdf')]\n",
        "firma1 = fitz.Pixmap('/content/firma1.png')\n",
        "firma2 = fitz.Pixmap('/content/firma2.png')\n",
        "firma3 = fitz.Pixmap('/content/firma3.png')\n",
        "for archivo in contenido:\n",
        "    rev = int(archivo[-5])\n",
        "    y = y_dict.get(rev, -82)\n",
        "    alto_firma = 65\n",
        "    rect1 = fitz.Rect(x1, y, x1+firma1.width*alto_firma/firma1.height, y+alto_firma)\n",
        "    rect2 = fitz.Rect(x2, y, x2+firma2.width*alto_firma/firma2.height, y+alto_firma)\n",
        "    rect3 = fitz.Rect(x3, y, x3+firma3.width*alto_firma/firma3.height, y+alto_firma)\n",
        "    pdf = fitz.open('/content/'+archivo)\n",
        "    pagina = pdf[0]\n",
        "    pagina.insert_image(rect1, pixmap=firma1)\n",
        "    pagina.insert_image(rect2, pixmap=firma2)\n",
        "    pagina.insert_image(rect3, pixmap=firma3)\n",
        "    pdf.save('/content/Firmados/'+archivo)"
      ],
      "metadata": {
        "id": "cKnbBQfkEvXh"
      },
      "execution_count": null,
      "outputs": []
    }
  ]
}