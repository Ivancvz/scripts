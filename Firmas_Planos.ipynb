{
  "nbformat": 4,
  "nbformat_minor": 0,
  "metadata": {
    "colab": {
      "provenance": []
    },
    "kernelspec": {
      "name": "python3",
      "display_name": "Python 3"
    },
    "language_info": {
      "name": "python"
    }
  },
  "cells": [
    {
      "cell_type": "markdown",
      "source": [
        "# Confirmar Coordenadas"
      ],
      "metadata": {
        "id": "_FQmXtcFWwdn"
      }
    },
    {
      "cell_type": "code",
      "source": [
        "y_dict = {0: 225, 1: 165, 2: 105, 3: 45, 4: -15, 5: -75} #Aquí puedes adaptar la coordenada según el cajetín del proyecto por cada revisión {rev: coordenada y}\n",
        "x1, x2, x3 = 4130, 4230, 4350 #Aquí puedes adaptar la coordenada según el cajetín del proyecto.\n",
        "# Carga todos los PDFs con los que trabajarás, el nombre de los PDFs al final debe indicar la revisión (0, 1, 2, 3, 4, 5).\n",
        "# Para cargar hay que jalar los PDFs a la sección 'Files' de la izquierda.\n",
        "# Cargar las firmas que colocarás, tener en cuenta como nombre \"firma1, firma2, firma3\" en el orden que se colocarán."
      ],
      "metadata": {
        "id": "1YwQx_EaW46v"
      },
      "execution_count": null,
      "outputs": []
    },
    {
      "cell_type": "markdown",
      "source": [
        "# Ejecutar Script"
      ],
      "metadata": {
        "id": "wZVq5VIbW7k3"
      }
    },
    {
      "cell_type": "code",
      "source": [
        "!pip install PyMuPDF\n",
        "import fitz\n",
        "import os\n",
        "from google.colab import files\n",
        "import shutil\n",
        "\n",
        "if not os.path.exists('/content/Firmados'):\n",
        "    os.makedirs('/content/Firmados')\n",
        "contenido = [archivo.name for archivo in os.scandir('/content/') if archivo.is_file() and archivo.name.endswith('.pdf')]\n",
        "firma1 = fitz.Pixmap('/content/firma1.png')\n",
        "firma2 = fitz.Pixmap('/content/firma2.png')\n",
        "firma3 = fitz.Pixmap('/content/firma3.png')\n",
        "for archivo in contenido:\n",
        "    rev = int(archivo[-5])\n",
        "    y = y_dict.get(rev, -82)\n",
        "    alto_firma = 65\n",
        "    rect1 = fitz.Rect(x1, y, x1+firma1.width*alto_firma/firma1.height, y+alto_firma)\n",
        "    rect2 = fitz.Rect(x2, y, x2+firma2.width*alto_firma/firma2.height, y+alto_firma)\n",
        "    rect3 = fitz.Rect(x3, y, x3+firma3.width*alto_firma/firma3.height, y+alto_firma)\n",
        "    pdf = fitz.open('/content/'+archivo)\n",
        "    pagina = pdf[0]\n",
        "    pagina.insert_image(rect1, pixmap=firma1)\n",
        "    pagina.insert_image(rect2, pixmap=firma2)\n",
        "    pagina.insert_image(rect3, pixmap=firma3)\n",
        "    pdf.save('/content/Firmados/'+archivo)\n",
        "  \n",
        "# Nombre de la carpeta a descargar\n",
        "folder_name = \"Firmados\"\n",
        "# Comprimir la carpeta en un archivo ZIP\n",
        "shutil.make_archive(folder_name, \"zip\", folder_name)\n",
        "# Descargar el archivo ZIP\n",
        "files.download(folder_name + \".zip\")"
      ],
      "metadata": {
        "id": "g-Mfzbw9XAiO"
      },
      "execution_count": null,
      "outputs": []
    },
    {
      "cell_type": "markdown",
      "source": [
        "# Limpiar Archivos"
      ],
      "metadata": {
        "id": "jHD5fjnuXTeJ"
      }
    },
    {
      "cell_type": "code",
      "source": [
        "!rm -rf Firmados/*\n",
        "\n",
        "if os.path.exists('/content/Firmados'):\n",
        "  os.rmdir('Firmados')\n",
        "\n",
        "clear = [archivo.name for archivo in os.scandir('/content/') if archivo.is_file() and not archivo.name.startswith('.')]\n",
        "for archivo in clear:\n",
        "    os.remove(os.path.join('/content/', archivo))"
      ],
      "metadata": {
        "id": "omKomZkpXXuH"
      },
      "execution_count": 5,
      "outputs": []
    }
  ]
}