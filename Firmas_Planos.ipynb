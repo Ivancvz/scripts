{
  "nbformat": 4,
  "nbformat_minor": 0,
  "metadata": {
    "colab": {
      "provenance": []
    },
    "kernelspec": {
      "name": "python3",
      "display_name": "Python 3"
    },
    "language_info": {
      "name": "python"
    }
  },
  "cells": [
    {
      "cell_type": "markdown",
      "metadata": {
        "id": "view-in-github",
        "colab_type": "text"
      },
      "source": [
        "<a href=\"https://colab.research.google.com/github/Ivancvz/scripts/blob/main/Firmas_Planos.ipynb" target=\"_parent\"><img src=\"https://colab.research.google.com/assets/colab-badge.svg\" alt=\"Open In Colab\"/></a>"
      ]
    },
    {
      "cell_type": "markdown",
      "source": [
        "# Confirmar Coordenadas"
      ],
      "metadata": {
        "id": "_FQmXtcFWwdn"
      }
    },
    {
      "cell_type": "code",
      "source": [
        "y_dict = {0: 225, 1: 165, 2: 105, 3: 45, 4: -15, 5: -75} #Aquí puedes adaptar la coordenada según el cajetín del proyecto por cada revisión {rev: coordenada y}\n",
        "x1, x2, x3 = 4130, 4230, 4350 #Aquí puedes adaptar la coordenada según el cajetín del proyecto.\n",
        "# Carga todos los PDFs con los que trabajarás, el nombre de los PDFs al final debe indicar la revisión (0, 1, 2, 3, 4, 5).\n",
        "# Para cargar hay que jalar los PDFs a la sección 'Files' de la izquierda.\n",
        "# Cargar las firmas que colocarás, tener en cuenta como nombre \"firma1, firma2, firma3\" en el orden que se colocarán."
      ],
      "metadata": {
        "id": "1YwQx_EaW46v"
      },
      "execution_count": 1,
      "outputs": []
    },
    {
      "cell_type": "markdown",
      "source": [
        "# Ejecutar Script"
      ],
      "metadata": {
        "id": "wZVq5VIbW7k3"
      }
    },
    {
      "cell_type": "code",
      "source": [
        "!pip install PyMuPDF\n",
        "import fitz\n",
        "import os\n",
        "from google.colab import files\n",
        "import shutil\n",
        "\n",
        "if not os.path.exists('/content/Firmados'):\n",
        "    os.makedirs('/content/Firmados')\n",
        "contenido = [archivo.name for archivo in os.scandir('/content/') if archivo.is_file() and archivo.name.endswith('.pdf')]\n",
        "firma1 = fitz.Pixmap('/content/firma1.png')\n",
        "firma2 = fitz.Pixmap('/content/firma2.png')\n",
        "firma3 = fitz.Pixmap('/content/firma3.png')\n",
        "for archivo in contenido:\n",
        "    rev = int(archivo[-5])\n",
        "    y = y_dict.get(rev, -82)\n",
        "    alto_firma = 65\n",
        "    rect1 = fitz.Rect(x1, y, x1+firma1.width*alto_firma/firma1.height, y+alto_firma)\n",
        "    rect2 = fitz.Rect(x2, y, x2+firma2.width*alto_firma/firma2.height, y+alto_firma)\n",
        "    rect3 = fitz.Rect(x3, y, x3+firma3.width*alto_firma/firma3.height, y+alto_firma)\n",
        "    pdf = fitz.open('/content/'+archivo)\n",
        "    pagina = pdf[0]\n",
        "    pagina.insert_image(rect1, pixmap=firma1)\n",
        "    pagina.insert_image(rect2, pixmap=firma2)\n",
        "    pagina.insert_image(rect3, pixmap=firma3)\n",
        "    pdf.save('/content/Firmados/'+archivo)\n",
        "  \n",
        "# Nombre de la carpeta a descargar\n",
        "folder_name = \"Firmados\"\n",
        "# Comprimir la carpeta en un archivo ZIP\n",
        "shutil.make_archive(folder_name, \"zip\", folder_name)\n",
        "# Descargar el archivo ZIP\n",
        "files.download(folder_name + \".zip\")"
      ],
      "metadata": {
        "colab": {
          "base_uri": "https://localhost:8080/",
          "height": 121
        },
        "id": "g-Mfzbw9XAiO",
        "outputId": "2b23391f-f544-4a6f-a0f7-9cb953da57e0"
      },
      "execution_count": 2,
      "outputs": [
        {
          "output_type": "stream",
          "name": "stdout",
          "text": [
            "Looking in indexes: https://pypi.org/simple, https://us-python.pkg.dev/colab-wheels/public/simple/\n",
            "Collecting PyMuPDF\n",
            "  Downloading PyMuPDF-1.21.1-cp39-cp39-manylinux_2_17_x86_64.manylinux2014_x86_64.whl (14.0 MB)\n",
            "\u001b[2K     \u001b[90m━━━━━━━━━━━━━━━━━━━━━━━━━━━━━━━━━━━━━━━\u001b[0m \u001b[32m14.0/14.0 MB\u001b[0m \u001b[31m101.4 MB/s\u001b[0m eta \u001b[36m0:00:00\u001b[0m\n",
            "\u001b[?25hInstalling collected packages: PyMuPDF\n",
            "Successfully installed PyMuPDF-1.21.1\n"
          ]
        },
        {
          "output_type": "display_data",
          "data": {
            "text/plain": [
              "<IPython.core.display.Javascript object>"
            ],
            "application/javascript": [
              "\n",
              "    async function download(id, filename, size) {\n",
              "      if (!google.colab.kernel.accessAllowed) {\n",
              "        return;\n",
              "      }\n",
              "      const div = document.createElement('div');\n",
              "      const label = document.createElement('label');\n",
              "      label.textContent = `Downloading \"${filename}\": `;\n",
              "      div.appendChild(label);\n",
              "      const progress = document.createElement('progress');\n",
              "      progress.max = size;\n",
              "      div.appendChild(progress);\n",
              "      document.body.appendChild(div);\n",
              "\n",
              "      const buffers = [];\n",
              "      let downloaded = 0;\n",
              "\n",
              "      const channel = await google.colab.kernel.comms.open(id);\n",
              "      // Send a message to notify the kernel that we're ready.\n",
              "      channel.send({})\n",
              "\n",
              "      for await (const message of channel.messages) {\n",
              "        // Send a message to notify the kernel that we're ready.\n",
              "        channel.send({})\n",
              "        if (message.buffers) {\n",
              "          for (const buffer of message.buffers) {\n",
              "            buffers.push(buffer);\n",
              "            downloaded += buffer.byteLength;\n",
              "            progress.value = downloaded;\n",
              "          }\n",
              "        }\n",
              "      }\n",
              "      const blob = new Blob(buffers, {type: 'application/binary'});\n",
              "      const a = document.createElement('a');\n",
              "      a.href = window.URL.createObjectURL(blob);\n",
              "      a.download = filename;\n",
              "      div.appendChild(a);\n",
              "      a.click();\n",
              "      div.remove();\n",
              "    }\n",
              "  "
            ]
          },
          "metadata": {}
        },
        {
          "output_type": "display_data",
          "data": {
            "text/plain": [
              "<IPython.core.display.Javascript object>"
            ],
            "application/javascript": [
              "download(\"download_31d61480-928d-4a09-8f64-c5b54e56fbd3\", \"Firmados.zip\", 8225851)"
            ]
          },
          "metadata": {}
        }
      ]
    },
    {
      "cell_type": "markdown",
      "source": [
        "# Limpiar Archivos"
      ],
      "metadata": {
        "id": "jHD5fjnuXTeJ"
      }
    },
    {
      "cell_type": "code",
      "source": [
        "!rm -rf Firmados/*\n",
        "os.rmdir('Firmados')\n",
        "\n",
        "clear = [archivo.name for archivo in os.scandir('/content/') if archivo.is_file() and not archivo.name.startswith('.')]\n",
        "for archivo in clear:\n",
        "    os.remove(os.path.join('/content/', archivo))"
      ],
      "metadata": {
        "id": "omKomZkpXXuH"
      },
      "execution_count": 3,
      "outputs": []
    }
  ]
}
