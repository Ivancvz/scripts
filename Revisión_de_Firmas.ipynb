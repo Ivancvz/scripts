{
  "nbformat": 4,
  "nbformat_minor": 0,
  "metadata": {
    "colab": {
      "provenance": []
    },
    "kernelspec": {
      "name": "python3",
      "display_name": "Python 3"
    },
    "language_info": {
      "name": "python"
    }
  },
  "cells": [
    {
      "cell_type": "markdown",
      "metadata": {
        "id": "view-in-github",
        "colab_type": "text"
      },
      "source": [
        "<a href=\"https://colab.research.google.com/github/Ivancvz/scripts/blob/main/Revisión_de_Firmas.ipynb\" target=\"_parent\"><img src=\"https://colab.research.google.com/assets/colab-badge.svg\" alt=\"Open In Colab\"/></a>"
      ]
    },
    {
      "cell_type": "markdown",
      "source": [
        "# Datos (definidos para planos)"
      ],
      "metadata": {
        "id": "x3aaCAUluypp"
      }
    },
    {
      "cell_type": "code",
      "execution_count": 1,
      "metadata": {
        "id": "b5T4QZlwqz9N"
      },
      "outputs": [],
      "source": [
        "left = 0.41  # Coordenada izquierda normalizada (valores de 0 a 1)\n",
        "top = 0.87   # Coordenada superior normalizada (valores de 0 a 1)\n",
        "right = 0.455  # Coordenada derecha normalizada (valores de 0 a 1)\n",
        "bottom = 0.95  # Coordenada inferior normalizada (valores de 0 a 1)\n",
        "dpi = 200 # Resolución de la imagen (un mayor dpi implica más tiempo de procesamiento)"
      ]
    },
    {
      "cell_type": "markdown",
      "source": [
        "# Librerías"
      ],
      "metadata": {
        "id": "U9W01-E5vH2h"
      }
    },
    {
      "cell_type": "code",
      "source": [
        "!pip install PyMuPDF\n",
        "import fitz\n",
        "import os\n",
        "from google.colab import files\n",
        "from PIL import Image\n",
        "import shutil"
      ],
      "metadata": {
        "colab": {
          "base_uri": "https://localhost:8080/"
        },
        "id": "qKHcvuscrDI3",
        "outputId": "93f7083e-2582-4212-c317-069e2a4632d4"
      },
      "execution_count": 14,
      "outputs": [
        {
          "output_type": "stream",
          "name": "stdout",
          "text": [
            "Requirement already satisfied: PyMuPDF in /usr/local/lib/python3.10/dist-packages (1.22.5)\n"
          ]
        }
      ]
    },
    {
      "cell_type": "markdown",
      "source": [
        "#Ejecurtar Script"
      ],
      "metadata": {
        "id": "-fNdEKSFvKqJ"
      }
    },
    {
      "cell_type": "code",
      "source": [
        "if not os.path.exists('/content/Firmas'):\n",
        "    os.makedirs('/content/Firmas')\n",
        "contenido = [archivo.name for archivo in os.scandir('/content/') if archivo.is_file() and archivo.name.endswith('.pdf')]\n",
        "\n",
        "for archivo in contenido:\n",
        "  pdf_document = fitz.open('/content/'+archivo)\n",
        "  target_page = pdf_document[0]\n",
        "  image = target_page.get_pixmap(matrix=fitz.Matrix(dpi/72, dpi/72))\n",
        "  pil_image = Image.frombytes(\"RGB\", (image.width, image.height), image.samples)\n",
        "  pil_image = pil_image.resize((int(image.width * dpi / 72), int(image.height * dpi / 72)), Image.ANTIALIAS)\n",
        "  image_width, image_height = pil_image.size\n",
        "  left_px = int(left * image_width)\n",
        "  top_px = int(top * image_height)\n",
        "  right_px = int(right * image_width)\n",
        "  bottom_px = int(bottom * image_height)\n",
        "  cropped_image = pil_image.crop((left_px, top_px, right_px, bottom_px))\n",
        "  cropped_image.save('/content/Firmas/'+archivo[:-4]+'.png')\n",
        "\n",
        "# Nombre de la carpeta a descargar\n",
        "folder_name = \"Firmas\"\n",
        "# Comprimir la carpeta en un archivo ZIP\n",
        "shutil.make_archive(folder_name, \"zip\", folder_name)\n",
        "# Descargar el archivo ZIP\n",
        "files.download(folder_name + \".zip\")"
      ],
      "metadata": {
        "colab": {
          "base_uri": "https://localhost:8080/",
          "height": 52
        },
        "id": "e0rNOgsdrI7L",
        "outputId": "6c51d760-75e9-4800-c2dc-bfa70713bd59"
      },
      "execution_count": 15,
      "outputs": [
        {
          "output_type": "stream",
          "name": "stderr",
          "text": [
            "<ipython-input-15-455681f69267>:10: DeprecationWarning: ANTIALIAS is deprecated and will be removed in Pillow 10 (2023-07-01). Use LANCZOS or Resampling.LANCZOS instead.\n",
            "  pil_image = pil_image.resize((int(image.width * dpi / 72), int(image.height * dpi / 72)), Image.ANTIALIAS)\n"
          ]
        },
        {
          "output_type": "display_data",
          "data": {
            "text/plain": [
              "<IPython.core.display.Javascript object>"
            ],
            "application/javascript": [
              "\n",
              "    async function download(id, filename, size) {\n",
              "      if (!google.colab.kernel.accessAllowed) {\n",
              "        return;\n",
              "      }\n",
              "      const div = document.createElement('div');\n",
              "      const label = document.createElement('label');\n",
              "      label.textContent = `Downloading \"${filename}\": `;\n",
              "      div.appendChild(label);\n",
              "      const progress = document.createElement('progress');\n",
              "      progress.max = size;\n",
              "      div.appendChild(progress);\n",
              "      document.body.appendChild(div);\n",
              "\n",
              "      const buffers = [];\n",
              "      let downloaded = 0;\n",
              "\n",
              "      const channel = await google.colab.kernel.comms.open(id);\n",
              "      // Send a message to notify the kernel that we're ready.\n",
              "      channel.send({})\n",
              "\n",
              "      for await (const message of channel.messages) {\n",
              "        // Send a message to notify the kernel that we're ready.\n",
              "        channel.send({})\n",
              "        if (message.buffers) {\n",
              "          for (const buffer of message.buffers) {\n",
              "            buffers.push(buffer);\n",
              "            downloaded += buffer.byteLength;\n",
              "            progress.value = downloaded;\n",
              "          }\n",
              "        }\n",
              "      }\n",
              "      const blob = new Blob(buffers, {type: 'application/binary'});\n",
              "      const a = document.createElement('a');\n",
              "      a.href = window.URL.createObjectURL(blob);\n",
              "      a.download = filename;\n",
              "      div.appendChild(a);\n",
              "      a.click();\n",
              "      div.remove();\n",
              "    }\n",
              "  "
            ]
          },
          "metadata": {}
        },
        {
          "output_type": "display_data",
          "data": {
            "text/plain": [
              "<IPython.core.display.Javascript object>"
            ],
            "application/javascript": [
              "download(\"download_75c39ae0-1000-4db9-8afa-97107d678f54\", \"Firmas.zip\", 30418)"
            ]
          },
          "metadata": {}
        }
      ]
    },
    {
      "cell_type": "markdown",
      "source": [
        "#Limpiar Archivos"
      ],
      "metadata": {
        "id": "ungwyK6EvM5i"
      }
    },
    {
      "cell_type": "code",
      "source": [
        "!rm -rf Firmados/*\n",
        "\n",
        "if os.path.exists('/content/Firmados'):\n",
        "  os.rmdir('Firmados')\n",
        "\n",
        "clear = [archivo.name for archivo in os.scandir('/content/') if archivo.is_file() and not archivo.name.startswith('.')]\n",
        "for archivo in clear:\n",
        "    os.remove(os.path.join('/content/', archivo))"
      ],
      "metadata": {
        "id": "luiC8c4Duomz"
      },
      "execution_count": null,
      "outputs": []
    }
  ]
}
